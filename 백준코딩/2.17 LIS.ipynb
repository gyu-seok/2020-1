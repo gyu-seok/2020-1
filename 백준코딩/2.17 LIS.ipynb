{
 "cells": [
  {
   "cell_type": "code",
   "execution_count": null,
   "metadata": {},
   "outputs": [],
   "source": [
    "import sys\n",
    "n = int(sys.stdin.readline())\n",
    "a = [int(x) for x in sys.stdin.readline().split()]\n",
    "\n"
   ]
  },
  {
   "cell_type": "code",
   "execution_count": 2,
   "metadata": {},
   "outputs": [
    {
     "name": "stdout",
     "output_type": "stream",
     "text": [
      "6\n",
      "10 20 10 30 20 50\n"
     ]
    }
   ],
   "source": [
    "#11053번 LIS문제 --> 맞았습니다.\n",
    "n = int(input())\n",
    "\n",
    "a = [int(x) for x in input().split()]\n",
    "a.insert(0,0)\n",
    "d = [1 for i in range(n+1)]\n",
    "\n",
    "for i in range(1,len(a)):\n",
    "    for j in range(1,i):\n",
    "        if a[i] > a[j]:\n",
    "            if d[i] < d[j]+1:\n",
    "                d[i] = d[j] +1\n",
    "print(max(d))\n",
    "            \n",
    "            \n",
    "    \n",
    "    \n",
    "    \n",
    "\n",
    "\n",
    "\n"
   ]
  },
  {
   "cell_type": "code",
   "execution_count": 24,
   "metadata": {},
   "outputs": [
    {
     "name": "stdout",
     "output_type": "stream",
     "text": [
      "6\n",
      "10 20 10 30 20 50\n",
      "4\n",
      "10 20 30 50 "
     ]
    }
   ],
   "source": [
    "#14002 LIS문제 --> 맞았습니다.\n",
    "n = int(input())\n",
    "\n",
    "a = [int(x) for x in input().split()]\n",
    "a.insert(0,0)\n",
    "d = [1 for i in range(n+1)]\n",
    "v = [0 for i in range(n+1)]\n",
    "\n",
    "for i in range(1,len(a)):\n",
    "    for j in range(1,i):\n",
    "        if a[i] > a[j]:\n",
    "            if d[i] < d[j]+1:\n",
    "                d[i] = d[j] +1\n",
    "                v[i] = j\n",
    "\n",
    "for i in range(len(d)):\n",
    "    if d[i] == max(d):\n",
    "        index = i\n",
    "ans=[]\n",
    "ans.append(a[index])\n",
    "while(v[index] != 0):\n",
    "    temp = v[index]\n",
    "    ans.append(a[temp])\n",
    "    index = temp\n",
    "ans.sort()\n",
    "\n",
    "print(max(d))\n",
    "for i in ans:\n",
    "    print(i, end=' ')\n"
   ]
  },
  {
   "cell_type": "code",
   "execution_count": 17,
   "metadata": {},
   "outputs": [
    {
     "data": {
      "text/plain": [
       "[0, 0, 1, 0, 2, 1, 4]"
      ]
     },
     "execution_count": 17,
     "metadata": {},
     "output_type": "execute_result"
    }
   ],
   "source": [
    "v"
   ]
  },
  {
   "cell_type": "code",
   "execution_count": 18,
   "metadata": {},
   "outputs": [
    {
     "data": {
      "text/plain": [
       "[1, 1, 2, 1, 3, 2, 4]"
      ]
     },
     "execution_count": 18,
     "metadata": {},
     "output_type": "execute_result"
    }
   ],
   "source": [
    "d"
   ]
  },
  {
   "cell_type": "code",
   "execution_count": 19,
   "metadata": {},
   "outputs": [
    {
     "data": {
      "text/plain": [
       "6"
      ]
     },
     "execution_count": 19,
     "metadata": {},
     "output_type": "execute_result"
    }
   ],
   "source": [
    "index"
   ]
  },
  {
   "cell_type": "code",
   "execution_count": 21,
   "metadata": {},
   "outputs": [
    {
     "data": {
      "text/plain": [
       "[50, 30, 20, 10]"
      ]
     },
     "execution_count": 21,
     "metadata": {},
     "output_type": "execute_result"
    }
   ],
   "source": [
    "ans"
   ]
  },
  {
   "cell_type": "code",
   "execution_count": null,
   "metadata": {},
   "outputs": [],
   "source": []
  }
 ],
 "metadata": {
  "kernelspec": {
   "display_name": "Python 3",
   "language": "python",
   "name": "python3"
  },
  "language_info": {
   "codemirror_mode": {
    "name": "ipython",
    "version": 3
   },
   "file_extension": ".py",
   "mimetype": "text/x-python",
   "name": "python",
   "nbconvert_exporter": "python",
   "pygments_lexer": "ipython3",
   "version": "3.7.6"
  }
 },
 "nbformat": 4,
 "nbformat_minor": 4
}
