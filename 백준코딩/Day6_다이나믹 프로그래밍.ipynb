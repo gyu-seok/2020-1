{
 "cells": [
  {
   "cell_type": "code",
   "execution_count": null,
   "metadata": {},
   "outputs": [],
   "source": [
    "#피보나치 --> top down 방식\n",
    "def fibo(n):\n",
    "    if n<=1:\n",
    "        return n\n",
    "    else:\n",
    "        if memo[n] > 0:\n",
    "            return memo[n]\n",
    "        memo[n] = fibo(n-1) + fibo(n-2)\n",
    "        return memo[n]\n",
    "\n",
    "n = int(input(\"숫자입력:\"))\n",
    "memo = [0 for i in range(n+1)]\n",
    "print(fibo(n))\n"
   ]
  },
  {
   "cell_type": "code",
   "execution_count": null,
   "metadata": {},
   "outputs": [],
   "source": [
    "#피보나치 --> bottom up방식\n",
    "def fibo(n):\n",
    "    number[0] = 0\n",
    "    number[1] = 1\n",
    "    for i in range(2,n+1):\n",
    "        number[i] = number[i-1] + number[i-2]\n",
    "    return number[n]\n",
    "\n",
    "n = int(input(\"숫자입력:\"))\n",
    "number=[0 for i in range(n+1)]\n",
    "print(fibo(n))"
   ]
  },
  {
   "cell_type": "code",
   "execution_count": null,
   "metadata": {},
   "outputs": [],
   "source": [
    "#1463번 1로만들기 --> min(count[number-1],count[number//2],count[number//3])+1 구하기\n",
    "n = int(input())\n",
    "count = [0 for i in range(n+1)]\n",
    "\n",
    "def min_cnt(n):\n",
    "    if n ==1:\n",
    "        return 0\n",
    "    elif n <= 3:\n",
    "        return 1\n",
    "    else:\n",
    "        for number in range(1,n+1):\n",
    "            if number <=3:\n",
    "                count[number] = 1\n",
    "            else:\n",
    "                count[number] = count[number-1] +1\n",
    "                if number%3 == 0:\n",
    "                    temp1 = count[number//3]+1\n",
    "                    if count[number] > temp1:\n",
    "                        count[number] = temp1\n",
    "                if number%2 == 0:\n",
    "                    temp2 = count[number//2]+1\n",
    "                    if count[number] > temp2:\n",
    "                        count[number] = temp2\n",
    "                \n",
    "        return count[n]\n",
    "print(min_cnt(n))\n",
    "            "
   ]
  },
  {
   "cell_type": "code",
   "execution_count": 3,
   "metadata": {},
   "outputs": [
    {
     "name": "stdout",
     "output_type": "stream",
     "text": [
      "10\n",
      "3\n"
     ]
    }
   ],
   "source": [
    "#1463번 1로만들기 --> min(count[number-1],count[number//2],count[number//3])+1 구하기\n",
    "n = int(input())\n",
    "count = [0 for i in range(n+1)]\n",
    "\n",
    "def min_cnt(n):\n",
    "    if n ==1:\n",
    "        return 0\n",
    "    elif n <= 3:\n",
    "        return 1\n",
    "    else:\n",
    "        count[1] = 0\n",
    "        for number in range(2,n+1):\n",
    "            count[number] = count[number-1] +1\n",
    "            if number%3 == 0 and count[number] > count[number//3]+1:\n",
    "                    count[number] = count[number//3]+1\n",
    "            if number%2 == 0 and count[number] > count[number//2]+1:\n",
    "                    count[number] = count[number//2]+1\n",
    "                    \n",
    "        return count[n]\n",
    "print(min_cnt(n))\n",
    "            "
   ]
  },
  {
   "cell_type": "code",
   "execution_count": 4,
   "metadata": {},
   "outputs": [
    {
     "data": {
      "text/plain": [
       "[0, 0, 1, 1, 2, 3, 2, 3, 3, 2, 3]"
      ]
     },
     "execution_count": 4,
     "metadata": {},
     "output_type": "execute_result"
    }
   ],
   "source": [
    "count"
   ]
  },
  {
   "cell_type": "code",
   "execution_count": null,
   "metadata": {},
   "outputs": [],
   "source": []
  },
  {
   "cell_type": "code",
   "execution_count": null,
   "metadata": {},
   "outputs": [],
   "source": []
  },
  {
   "cell_type": "code",
   "execution_count": null,
   "metadata": {},
   "outputs": [],
   "source": []
  }
 ],
 "metadata": {
  "kernelspec": {
   "display_name": "Python 3",
   "language": "python",
   "name": "python3"
  },
  "language_info": {
   "codemirror_mode": {
    "name": "ipython",
    "version": 3
   },
   "file_extension": ".py",
   "mimetype": "text/x-python",
   "name": "python",
   "nbconvert_exporter": "python",
   "pygments_lexer": "ipython3",
   "version": "3.7.6"
  }
 },
 "nbformat": 4,
 "nbformat_minor": 4
}
