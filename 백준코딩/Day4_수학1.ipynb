{
 "cells": [
  {
   "cell_type": "code",
   "execution_count": null,
   "metadata": {},
   "outputs": [],
   "source": [
    "# 10430번 나머지 --> 맞았습니다.\n",
    "num = input(\"\").split()\n",
    "A = int(num[0])\n",
    "B = int(num[1])\n",
    "C = int(num[2])\n",
    "\n",
    "\n",
    "print((A+B)%C)\n",
    "print((A%C+B%C)%C)\n",
    "print((A*B)%C)\n",
    "print((A%C*B%C)%C)\n",
    "\n"
   ]
  },
  {
   "cell_type": "code",
   "execution_count": null,
   "metadata": {
    "scrolled": true
   },
   "outputs": [],
   "source": [
    "#2609번 최대공약수와 최소공배수 --> 맞았습니다.\n",
    "\n",
    "def max(a,b):\n",
    "    max = 0\n",
    "    if a > b:\n",
    "        for i in range(1, b+1):\n",
    "            if a%i ==0 and b%i ==0:\n",
    "                max = i\n",
    "    elif a < b:\n",
    "        for i in range(1, a+1):\n",
    "            if a%i ==0 and b%i ==0:\n",
    "                max = i\n",
    "    else:\n",
    "        max = a\n",
    "    return max\n",
    "\n",
    "def min(a,b):\n",
    "    GCD=max(a,b)\n",
    "    min = int(GCD*(a/GCD)*(b/GCD))\n",
    "    return min\n",
    "\n",
    "num = input().split()\n",
    "A = int(num[0])\n",
    "B = int(num[1])\n",
    "\n",
    "print(max(A,B))\n",
    "print(min(A,B))\n",
    "                "
   ]
  },
  {
   "cell_type": "code",
   "execution_count": null,
   "metadata": {},
   "outputs": [],
   "source": [
    "#유클리드 호제법으로 최대공약수 구하기\n",
    "\n",
    "def GCD(a,b):\n",
    "    if b == 0:\n",
    "        return a\n",
    "    else:\n",
    "        return GCD(b, a%b)\n",
    "\n",
    "def min(a,b):\n",
    "    gcd=GCD(a,b)\n",
    "    min = int(gcd*(a/gcd)*(b/gcd))\n",
    "    return min\n",
    "\n",
    "num = input().split()\n",
    "A = int(num[0])\n",
    "B = int(num[1])\n",
    "\n",
    "print(GCD(A,B))\n",
    "print(min(A,B))\n"
   ]
  },
  {
   "cell_type": "code",
   "execution_count": null,
   "metadata": {},
   "outputs": [],
   "source": [
    "#1978번 소수찾기 --> 맞았습니다.\n",
    "T = int(input())\n",
    "num_list = input().split()\n",
    "cnt = 0\n",
    "for num in num_list:\n",
    "    temp = int(num)\n",
    "    \n",
    "    if temp != 1:\n",
    "        prime = True\n",
    "        for i in range(2, temp):\n",
    "            if temp % i == 0:\n",
    "                prime = False\n",
    "                break\n",
    "        if prime == True:\n",
    "            cnt += 1\n",
    "print(cnt)\n",
    "    \n",
    "\n",
    "    \n"
   ]
  },
  {
   "cell_type": "code",
   "execution_count": null,
   "metadata": {},
   "outputs": [],
   "source": [
    "# 2~ N/2까지를 통해 소수 구하기\n",
    "def prime(num):\n",
    "    if num < 2:\n",
    "        return False\n",
    "    else:\n",
    "        for i in range(2, num//2):\n",
    "            if num % i == 0:\n",
    "                return False\n",
    "        return True\n",
    "    \n"
   ]
  },
  {
   "cell_type": "code",
   "execution_count": null,
   "metadata": {
    "scrolled": true
   },
   "outputs": [],
   "source": [
    "# 2~ 루트n까지를 통해 소수구하기\n",
    "import math\n",
    "\n",
    "def prime(num):\n",
    "    \n",
    "    if num < 2:\n",
    "        return False\n",
    "    else:\n",
    "        for i in range(2, int(math.sqrt(num)),1):\n",
    "            if num % i == 0:\n",
    "                return False\n",
    "        return True\n",
    "prime(5)\n",
    "print(math.sqrt(5))\n",
    "print(int(math.sqrt(5)))"
   ]
  },
  {
   "cell_type": "code",
   "execution_count": null,
   "metadata": {},
   "outputs": [],
   "source": [
    "#에라토스테네스의 체\n",
    "prime=[]\n",
    "n = 100\n",
    "check = [0 for i in range(n+1)]\n",
    "\n",
    "for i in range(2, n+1):\n",
    "        if check[i] == 0:\n",
    "            prime.append(i)\n",
    "            for j in range(i+i, n+1, i): \n",
    "                check[j] = 1\n",
    "prime"
   ]
  },
  {
   "cell_type": "code",
   "execution_count": null,
   "metadata": {},
   "outputs": [],
   "source": [
    "# 6588번 골드바흐의 추측\n",
    "\n",
    "def Gold(num):\n",
    "    num_list=[]\n",
    "    for test in range(2, num):\n",
    "        temp = 0\n",
    "        if test%2 == 1:\n",
    "            temp = test\n",
    "            \n",
    "        if temp != 0:\n",
    "            prime = True\n",
    "            for j in range(2,temp):\n",
    "                if temp%j == 0:\n",
    "                    prime = False\n",
    "                    break\n",
    "            if prime == True:\n",
    "                num_list.append(temp)\n",
    "                \n",
    "    if len(num_list) < 2:\n",
    "        print(\"Goldbach's conjecture is wrong.\")\n",
    "    else:\n",
    "        print(num,'=',num_list[0],'+',num_list[-1])\n",
    "\n",
    "\n",
    "\n",
    "\n",
    "while(1):\n",
    "    num = int(input())\n",
    "    if num == 0:\n",
    "        break\n",
    "    else:\n",
    "        Gold(num)\n",
    "        "
   ]
  }
 ],
 "metadata": {
  "kernelspec": {
   "display_name": "Python 3",
   "language": "python",
   "name": "python3"
  },
  "language_info": {
   "codemirror_mode": {
    "name": "ipython",
    "version": 3
   },
   "file_extension": ".py",
   "mimetype": "text/x-python",
   "name": "python",
   "nbconvert_exporter": "python",
   "pygments_lexer": "ipython3",
   "version": "3.7.6"
  }
 },
 "nbformat": 4,
 "nbformat_minor": 4
}
