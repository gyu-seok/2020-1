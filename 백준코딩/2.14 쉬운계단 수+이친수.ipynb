{
 "cells": [
  {
   "cell_type": "code",
   "execution_count": null,
   "metadata": {},
   "outputs": [],
   "source": [
    "import sys\n",
    "n = int(sys.stdin.readline())"
   ]
  },
  {
   "cell_type": "code",
   "execution_count": null,
   "metadata": {},
   "outputs": [],
   "source": [
    "#10844번 쉬운 계단 수 -->맞음\n",
    "n = int(input())\n",
    "\n",
    "mod = 1000000000\n",
    "d =[[0]*10for i in range(n+1)]\n",
    "\n",
    "for i in range(1,10):\n",
    "    d[1][i] = 1\n",
    "\n",
    "for i in range(2,n+1):\n",
    "    for j in range(10):\n",
    "        if j+1 <=9:\n",
    "            d[i][j] += d[i-1][j+1]\n",
    "        if j-1 >=0:\n",
    "            d[i][j] += d[i-1][j-1]\n",
    "        d[i][j] %= mod\n",
    "ans = sum(d[n])%mod\n",
    "print(ans)\n",
    "        \n",
    "\n",
    "\n"
   ]
  },
  {
   "cell_type": "code",
   "execution_count": 6,
   "metadata": {},
   "outputs": [
    {
     "name": "stdout",
     "output_type": "stream",
     "text": [
      "4\n",
      "3\n"
     ]
    }
   ],
   "source": [
    "#이친수\n",
    "\n",
    "n = int(input())\n",
    "d=[[0]*2 for i in range(n+1)]\n",
    "\n",
    "d[1][1] = 1\n",
    "d[2][0] = 1\n",
    "for i in range(3,n+1):\n",
    "    for j in range(2):\n",
    "        if j==0:\n",
    "            d[i][j]= d[i-1][j+1]+d[i-1][j]\n",
    "        elif j==1:\n",
    "            d[i][j] += d[i-1][j-1]\n",
    "ans = sum(d[n])\n",
    "print(ans)\n"
   ]
  },
  {
   "cell_type": "code",
   "execution_count": 7,
   "metadata": {},
   "outputs": [
    {
     "data": {
      "text/plain": [
       "[[0, 0], [0, 1], [1, 0], [1, 1], [2, 1]]"
      ]
     },
     "execution_count": 7,
     "metadata": {},
     "output_type": "execute_result"
    }
   ],
   "source": [
    "d"
   ]
  },
  {
   "cell_type": "code",
   "execution_count": 10,
   "metadata": {},
   "outputs": [
    {
     "name": "stdout",
     "output_type": "stream",
     "text": [
      "3\n",
      "2\n"
     ]
    }
   ],
   "source": [
    "n = int(input())\n",
    "d = [0 for i in range(n+1)]\n",
    "d[1] =1\n",
    "for i in range(2,n+1):\n",
    "    d[i] = d[i-1] + d[i-2]        # 끝자리가 0일떄 i-1개, 끝자리가 1일떄 i-2\n",
    "print(d[n])\n"
   ]
  },
  {
   "cell_type": "code",
   "execution_count": 11,
   "metadata": {},
   "outputs": [
    {
     "data": {
      "text/plain": [
       "[0, 1, 1, 2]"
      ]
     },
     "execution_count": 11,
     "metadata": {},
     "output_type": "execute_result"
    }
   ],
   "source": [
    "d"
   ]
  },
  {
   "cell_type": "code",
   "execution_count": null,
   "metadata": {},
   "outputs": [],
   "source": []
  }
 ],
 "metadata": {
  "kernelspec": {
   "display_name": "Python 3",
   "language": "python",
   "name": "python3"
  },
  "language_info": {
   "codemirror_mode": {
    "name": "ipython",
    "version": 3
   },
   "file_extension": ".py",
   "mimetype": "text/x-python",
   "name": "python",
   "nbconvert_exporter": "python",
   "pygments_lexer": "ipython3",
   "version": "3.7.6"
  }
 },
 "nbformat": 4,
 "nbformat_minor": 4
}
