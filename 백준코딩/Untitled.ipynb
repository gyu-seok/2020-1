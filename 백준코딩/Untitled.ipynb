{
 "cells": [
  {
   "cell_type": "code",
   "execution_count": null,
   "metadata": {},
   "outputs": [],
   "source": [
    "import sys\n",
    "n = int(sys.stdin.readline())\n",
    "num_list = [int(x) for x in sys.stdin.realine()]"
   ]
  },
  {
   "cell_type": "code",
   "execution_count": null,
   "metadata": {},
   "outputs": [],
   "source": [
    "n = int(input())\n",
    "num_list = [int(x) for x in input().split()]"
   ]
  },
  {
   "cell_type": "code",
   "execution_count": null,
   "metadata": {},
   "outputs": [],
   "source": [
    "#1912번 연속합\n",
    "#내방법\n",
    "num_max = -1\n",
    "for i in range(n):\n",
    "    temp1 = num_list[i]\n",
    "    for j in range(i+1,n):\n",
    "        temp2 = temp1 + num_list[j]\n",
    "        if temp1 > temp2:\n",
    "            break\n",
    "        else:\n",
    "            temp1 = temp2\n",
    "    if temp1 > num_max:\n",
    "        num_max = temp1\n",
    "            \n",
    "print(num_max)         \n",
    "            \n",
    "            \n",
    "            "
   ]
  },
  {
   "cell_type": "code",
   "execution_count": null,
   "metadata": {},
   "outputs": [],
   "source": [
    "#백준방법\n",
    "d = [0 for i in range(n)]\n",
    "d[0] = num_list[0]\n",
    "for i in range(1,n):\n",
    "    d[i] = max(d[i-1] + num_list[i], num_list[i])\n",
    "ans = max(d)\n",
    "print(ans)\n",
    "\n",
    "\n",
    "\n"
   ]
  },
  {
   "cell_type": "code",
   "execution_count": null,
   "metadata": {},
   "outputs": [],
   "source": []
  },
  {
   "cell_type": "code",
   "execution_count": 5,
   "metadata": {},
   "outputs": [
    {
     "name": "stdout",
     "output_type": "stream",
     "text": [
      "7\n",
      "[0, 1, 2, 3, 1, 2, 3, 4]\n"
     ]
    }
   ],
   "source": [
    "#1699번 제곱수의 합\n",
    "n = int(input())\n",
    "d = [0 for i in range(n+1)]\n",
    "\n",
    "for i in range(1,n+1):\n",
    "    d[i] = i\n",
    "    j = 1\n",
    "    while j*j <= i:\n",
    "        if d[i] > 1+d[i-j*j]:\n",
    "            d[i] = 1+ d[i-j*j]\n",
    "        j +=1\n",
    "print(d[n])\n",
    "        \n",
    "\n"
   ]
  },
  {
   "cell_type": "code",
   "execution_count": 6,
   "metadata": {},
   "outputs": [
    {
     "name": "stdout",
     "output_type": "stream",
     "text": [
      "4\n"
     ]
    }
   ],
   "source": [
    "print(d[n])"
   ]
  },
  {
   "cell_type": "code",
   "execution_count": null,
   "metadata": {},
   "outputs": [],
   "source": []
  }
 ],
 "metadata": {
  "kernelspec": {
   "display_name": "Python 3",
   "language": "python",
   "name": "python3"
  },
  "language_info": {
   "codemirror_mode": {
    "name": "ipython",
    "version": 3
   },
   "file_extension": ".py",
   "mimetype": "text/x-python",
   "name": "python",
   "nbconvert_exporter": "python",
   "pygments_lexer": "ipython3",
   "version": "3.7.6"
  }
 },
 "nbformat": 4,
 "nbformat_minor": 4
}
