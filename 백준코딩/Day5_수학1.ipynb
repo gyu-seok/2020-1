{
 "cells": [
  {
   "cell_type": "code",
   "execution_count": null,
   "metadata": {
    "scrolled": true
   },
   "outputs": [],
   "source": [
    "#골드바흐의 추측문제 --> 시간초과 ㅠㅠ --> 에라토스테네스의 체를 밖에서 한번만 돌리면 된다!\n",
    "max = 1000000\n",
    "prime=[]\n",
    "check=[0 for i in range(max)]\n",
    "\n",
    "for i in range(2,max):\n",
    "    if check[i] == 0:\n",
    "        prime.append(i)\n",
    "        for j in range(i*2,max,i):\n",
    "            check[j] = 1\n",
    "prime.remove(2)\n",
    "check[2] = 1\n",
    "\n",
    "\n",
    "\n",
    "\n",
    "num = -1\n",
    "while(1):\n",
    "    num = int(input())\n",
    "    if num == 0:\n",
    "        break\n",
    "    else:        \n",
    "        gold = False\n",
    "        for i in range(0,len(prime)):\n",
    "            \n",
    "            if check[num - prime[i]] == 0:\n",
    "                gold =True\n",
    "                a = prime[i]\n",
    "                b = num - prime[i]\n",
    "                print(num,'=',a,'+',b)\n",
    "                break\n",
    "        if gold == False:\n",
    "            print(\"Goldbach's conjecture is wrong.\")\n",
    "\n"
   ]
  },
  {
   "cell_type": "code",
   "execution_count": null,
   "metadata": {},
   "outputs": [],
   "source": [
    "#팩토리얼 --> 맞았습니다 --> 5의 개수를 세면 된다.\n",
    "num = int(input())\n",
    "\n",
    "result = 0\n",
    "i = 5\n",
    "while(i<= num):\n",
    "    cnt = num // i\n",
    "    result += cnt\n",
    "    i = i*5\n",
    "print(result)\n",
    "    \n",
    "    \n",
    "    \n",
    "    \n"
   ]
  },
  {
   "cell_type": "code",
   "execution_count": null,
   "metadata": {},
   "outputs": [],
   "source": [
    "#숨박꼭질6\n",
    "def GCD(a,b):\n",
    "    if b==0:\n",
    "        return a\n",
    "    else:\n",
    "        return GCD(b,a%b)\n",
    "\n",
    "temp1 = input().split()\n",
    "n = int(temp1[0])\n",
    "s = int(temp1[1])\n",
    "\n",
    "temp2 = input().split()\n",
    "gcd_list =[]\n",
    "for i in range(n):\n",
    "    gcd_list.append(abs(s-int(temp2[i])))\n",
    "\n",
    "ans = gcd_list[0]\n",
    "for i in range(1,n):\n",
    "    ans = GCD(ans,gcd_list[i])\n",
    "print(ans)\n",
    "\n",
    "\n",
    "\n",
    "\n",
    "\n"
   ]
  },
  {
   "cell_type": "code",
   "execution_count": 13,
   "metadata": {},
   "outputs": [
    {
     "name": "stdout",
     "output_type": "stream",
     "text": [
      "5\n",
      "6\n",
      "1\n",
      "8\n",
      "1\n",
      "10\n",
      "2\n",
      "12\n",
      "1\n",
      "100\n",
      "6\n"
     ]
    }
   ],
   "source": [
    "#골드바흐 파티션\n",
    "max = 1000000\n",
    "prime=[]\n",
    "check=[0 for i in range(max+1)]\n",
    "\n",
    "for i in range(2,max+1):\n",
    "    if check[i] == 0:\n",
    "        prime.append(i)\n",
    "        for j in range(i*2,max+1,i):\n",
    "            check[j] =1\n",
    "check[0] = 1\n",
    "check[1] = 1\n",
    "            \n",
    "            \n",
    "T = int(input())\n",
    "for i in range(T):\n",
    "    cnt = 0\n",
    "    num = int(input())\n",
    "    for j in range(0, len(prime)):\n",
    "        if num/2 >= num-prime[j] :\n",
    "            if check[num- prime[j]] == 0:                \n",
    "                cnt+=1\n",
    "    print(cnt)\n",
    "\n",
    "\n"
   ]
  }
 ],
 "metadata": {
  "kernelspec": {
   "display_name": "Python 3",
   "language": "python",
   "name": "python3"
  }
 },
 "nbformat": 4,
 "nbformat_minor": 4
}
