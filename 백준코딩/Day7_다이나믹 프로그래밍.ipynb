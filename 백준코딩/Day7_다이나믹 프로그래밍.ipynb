{
 "cells": [
  {
   "cell_type": "code",
   "execution_count": null,
   "metadata": {},
   "outputs": [],
   "source": [
    "#11726 2xn 타일링\n",
    "\n",
    "n = int(input())\n",
    "d=[0]*1001\n",
    "\n",
    "def tile(n):\n",
    "    if n == 1: return 1\n",
    "    elif n == 2: return 2\n",
    "    else:\n",
    "        d[1] = 1\n",
    "        d[2] = 2\n",
    "        for i in range(3,n+1):\n",
    "            d[i] = d[i-2]+d[i-1]\n",
    "        return d[n]\n",
    "ans = tile(n)\n",
    "print(ans%10007)\n",
    "\n",
    "    \n",
    "\n",
    "\n"
   ]
  },
  {
   "cell_type": "code",
   "execution_count": null,
   "metadata": {},
   "outputs": [],
   "source": [
    "#피보나치 --> top down 방식(어제)\n",
    "def fibo(n):\n",
    "    if n<=1:\n",
    "        return n\n",
    "    else:\n",
    "        if memo[n] > 0:\n",
    "            return memo[n]\n",
    "        memo[n] = fibo(n-1) + fibo(n-2)\n",
    "        return memo[n]\n",
    "\n",
    "n = int(input(\"숫자입력:\"))\n",
    "memo = [0 for i in range(n+1)]\n",
    "print(fibo(n))"
   ]
  },
  {
   "cell_type": "code",
   "execution_count": 1,
   "metadata": {},
   "outputs": [
    {
     "name": "stdout",
     "output_type": "stream",
     "text": [
      "3\n",
      "4\n",
      "7\n",
      "7\n",
      "44\n",
      "10\n",
      "274\n"
     ]
    }
   ],
   "source": [
    "#9095번 1,2,3 더하기\n",
    "\n",
    "d = [0]*12\n",
    "d[0] = 1\n",
    "d[1] = 1\n",
    "d[2] = 2\n",
    "\n",
    "for i in range(3,12):\n",
    "    d[i] = d[i-3] + d[i-2] + d[i-1]\n",
    "\n",
    "T = int(input())\n",
    "for i in range(T):\n",
    "    n = int(input())\n",
    "    print(d[n])\n"
   ]
  },
  {
   "cell_type": "code",
   "execution_count": null,
   "metadata": {},
   "outputs": [],
   "source": []
  }
 ],
 "metadata": {
  "kernelspec": {
   "display_name": "Python 3",
   "language": "python",
   "name": "python3"
  },
  "language_info": {
   "codemirror_mode": {
    "name": "ipython",
    "version": 3
   },
   "file_extension": ".py",
   "mimetype": "text/x-python",
   "name": "python",
   "nbconvert_exporter": "python",
   "pygments_lexer": "ipython3",
   "version": "3.7.6"
  }
 },
 "nbformat": 4,
 "nbformat_minor": 4
}
