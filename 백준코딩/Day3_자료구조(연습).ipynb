{
 "cells": [
  {
   "cell_type": "code",
   "execution_count": 27,
   "metadata": {},
   "outputs": [
    {
     "name": "stdout",
     "output_type": "stream",
     "text": [
      "()(((()())(())()))(())\n",
      "17\n"
     ]
    }
   ],
   "source": [
    "#10799번 쇠막대기 --> 맞았습니다.\n",
    "#시간 복잡도 O(N)\n",
    "#스택구조 이용\n",
    "\n",
    "string =input(\"\")\n",
    "\n",
    "list=[]\n",
    "cnt = 0\n",
    "if string[0:2] == '()':\n",
    "    string = string[2:]\n",
    "\n",
    "\n",
    "for i in range(len(string)):\n",
    "    \n",
    "    if string[i] == '(':\n",
    "        list.append(i+1)\n",
    "    elif string[i] == ')':\n",
    "        if i+1 - list[-1] == 1:\n",
    "            list.pop(-1)\n",
    "            cnt += len(list)\n",
    "            \n",
    "        else:\n",
    "            list.pop(-1)\n",
    "            cnt += 1\n",
    "print(cnt)        "
   ]
  },
  {
   "cell_type": "code",
   "execution_count": 103,
   "metadata": {},
   "outputs": [
    {
     "name": "stdout",
     "output_type": "stream",
     "text": [
      "5\n",
      "7 8 10 12 1\n",
      "8 -1 12 -1 -1 "
     ]
    }
   ],
   "source": [
    "#17298번\n",
    "#오큰수(인강) --> 도저히 모르겠다.\n",
    "T = int(input(\"\"))\n",
    "num = input(\"\")\n",
    "arr = num.split()\n",
    "\n",
    "stack=[]\n",
    "ans = [0 for i in range(len(arr))]\n",
    "\n",
    "if len(arr) == 1:\n",
    "    print(-1)\n",
    "else:\n",
    "    for index in range(len(arr)):\n",
    "        stack.append(index)\n",
    "        \n",
    "        if index+1 != len(arr):\n",
    "            temp = arr[index+1]\n",
    "            while (len(stack) != 0) and (arr[stack[-1]] < temp):\n",
    "                \n",
    "                ans[stack[-1]] = int(temp)\n",
    "                \n",
    "               \n",
    "                stack.pop(-1) \n",
    "                \n",
    "        else:\n",
    "            ans[index] = -1\n",
    "            stack.pop(-1)\n",
    "            \n",
    "    while len(stack) !=0:\n",
    "            ans[stack[-1]] = -1\n",
    "            stack.pop(-1)\n",
    "    for i in range(len(ans)):\n",
    "        print(ans[i], end=' ')\n",
    "    \n"
   ]
  }
 ],
 "metadata": {
  "kernelspec": {
   "display_name": "Python 3",
   "language": "python",
   "name": "python3"
  },
  "language_info": {
   "codemirror_mode": {
    "name": "ipython",
    "version": 3
   },
   "file_extension": ".py",
   "mimetype": "text/x-python",
   "name": "python",
   "nbconvert_exporter": "python",
   "pygments_lexer": "ipython3",
   "version": "3.7.6"
  }
 },
 "nbformat": 4,
 "nbformat_minor": 4
}
