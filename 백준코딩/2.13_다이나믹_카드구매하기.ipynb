{
 "cells": [
  {
   "cell_type": "code",
   "execution_count": null,
   "metadata": {},
   "outputs": [],
   "source": [
    "import sys\n",
    "num = int(sys.stdin.readline())\n",
    "price = [int(x) for x in sys.stdin.readline().split()]\n"
   ]
  },
  {
   "cell_type": "code",
   "execution_count": 22,
   "metadata": {},
   "outputs": [
    {
     "name": "stdout",
     "output_type": "stream",
     "text": [
      "5\n",
      "10 9 8 7 6\n",
      "50\n"
     ]
    }
   ],
   "source": [
    "#11052번 카드 구매가히기\n",
    "import sys\n",
    "num = int(input())\n",
    "price= [int(x) for x in input().split()]\n",
    "d = [0 for i in range(num+1)]\n",
    "\n",
    "for i in range(1,num+1):\n",
    "    for j in range(1,i+1):\n",
    "        d[i] = max(d[i],d[i-j]+price[j-1])\n",
    "print(d[num])"
   ]
  },
  {
   "cell_type": "code",
   "execution_count": 28,
   "metadata": {},
   "outputs": [
    {
     "name": "stdout",
     "output_type": "stream",
     "text": [
      "10\n",
      "1 1 2 3 5 8 13 21 34 55\n",
      "5\n"
     ]
    }
   ],
   "source": [
    "\n",
    "import sys\n",
    "num = int(input())\n",
    "price= [int(x) for x in input().split()]\n",
    "d = [-1 for i in range(num+1)]\n",
    "d[0] = 0\n",
    "for i in range(1,num+1):\n",
    "    for j in range(1,i+1):\n",
    "        if d[i] == -1:\n",
    "            d[i] = d[i-j] + price[j-1]\n",
    "        else:\n",
    "            d[i] = min(d[i],d[i-j]+price[j-1])\n",
    "print(d[num])"
   ]
  },
  {
   "cell_type": "code",
   "execution_count": 26,
   "metadata": {},
   "outputs": [
    {
     "data": {
      "text/plain": [
       "[0, 1, 2, 3, 4]"
      ]
     },
     "execution_count": 26,
     "metadata": {},
     "output_type": "execute_result"
    }
   ],
   "source": [
    "d"
   ]
  },
  {
   "cell_type": "code",
   "execution_count": null,
   "metadata": {},
   "outputs": [],
   "source": []
  }
 ],
 "metadata": {
  "kernelspec": {
   "display_name": "Python 3",
   "language": "python",
   "name": "python3"
  },
  "language_info": {
   "codemirror_mode": {
    "name": "ipython",
    "version": 3
   },
   "file_extension": ".py",
   "mimetype": "text/x-python",
   "name": "python",
   "nbconvert_exporter": "python",
   "pygments_lexer": "ipython3",
   "version": "3.7.6"
  }
 },
 "nbformat": 4,
 "nbformat_minor": 4
}
